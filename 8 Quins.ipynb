{
 "cells": [
  {
   "cell_type": "code",
   "execution_count": 1,
   "metadata": {},
   "outputs": [],
   "source": [
    "import random\n",
    "import copy\n",
    "import numpy as np\n",
    "from sty import bg, fg, ef, rs"
   ]
  },
  {
   "cell_type": "code",
   "execution_count": 2,
   "metadata": {},
   "outputs": [],
   "source": [
    "class Chromosome:\n",
    "    def __init__(self, state=None):\n",
    "        if state is None:\n",
    "            self.state = self.initialize()\n",
    "        else:\n",
    "            self.state = state\n",
    "    \n",
    "    def initialize(self):\n",
    "        row = [1, 0, 0, 0, 0, 0, 0, 0]\n",
    "        arr = [copy.copy(row) for i in range(8)]\n",
    "        for item in arr:\n",
    "            random.shuffle(item)\n",
    "        return arr\n",
    "    \n",
    "    def hiting_quins(self):\n",
    "        hiting = []\n",
    "        for i, item in enumerate(self.state):\n",
    "            pos_quin1 = [i, item.index(1)]\n",
    "            for j in range(i + 1, len(self.state)):\n",
    "                arr = self.state[j]\n",
    "                pos_quin2 = [j, arr.index(1)]\n",
    "                if self.check_hit(pos_quin1, pos_quin2):\n",
    "                    hiting.append(pos_quin1)\n",
    "                    hiting.append(pos_quin2)\n",
    "        return hiting\n",
    "    \n",
    "    @property\n",
    "    def cost(self):\n",
    "        value = 0\n",
    "        for i, item in enumerate(self.state):\n",
    "            pos_quin1 = [i, item.index(1)]\n",
    "            for j in range(i + 1, len(self.state)):\n",
    "                arr = self.state[j]\n",
    "                pos_quin2 = [j, arr.index(1)]\n",
    "                if self.check_hit(pos_quin1, pos_quin2):\n",
    "                    value += 1\n",
    "        return value\n",
    "    \n",
    "    def check_hit(self, pos1, pos2):\n",
    "        if pos1[0] == pos2[0]:\n",
    "            return True\n",
    "        if pos1[1] == pos2[1]:\n",
    "            return True\n",
    "        if pos1[0] + pos1[1] == pos2[0] + pos2[1]:\n",
    "            return True\n",
    "        if pos1[1] - pos1[0] == pos2[1] - pos2[0]:\n",
    "            return True\n",
    "        return False\n",
    "    \n",
    "    def copy(self):\n",
    "        return copy.deepcopy(self.state)\n",
    "    \n",
    "    def mutate(self):\n",
    "        pop = self.copy()\n",
    "        r = random.randrange(0, 8)\n",
    "        a = [1, 0, 0, 0, 0, 0, 0, 0]\n",
    "        random.shuffle(a)\n",
    "        pop[r] = a\n",
    "        return Chromosome(pop)\n",
    "    \n",
    "    def cross_over(self, other):\n",
    "        r = random.randrange(1, 8)\n",
    "        pop1 = self.copy()\n",
    "        pop2 = other.copy()\n",
    "        pop3 = pop1[:r+1] + pop2[r+1:]\n",
    "        pop4 = pop2[:r+1] + pop1[r+1:]\n",
    "        return (Chromosome(pop3), Chromosome(pop4))\n",
    "        \n",
    "    def print_state(self):\n",
    "        print(' _' * 8)\n",
    "        for item in self.state:\n",
    "            msg = '|'\n",
    "            for value in item:\n",
    "                if value == 1:\n",
    "                    msg += f'{ef.underl}{bg.cyan}*{rs.all}|'\n",
    "                else:\n",
    "                    msg += '_|'\n",
    "            print(msg)          \n",
    "    \n",
    "    def __repr__(self):\n",
    "        msg = (' _' * 8 + '\\n')\n",
    "        for i, item in enumerate(self.state):\n",
    "            msg += '|'\n",
    "            for indx, value in enumerate(item):\n",
    "                if value == 1:\n",
    "                    quin_pos = [i, indx]\n",
    "                    if quin_pos in self.hiting_quins():\n",
    "                        msg += f'{ef.underl}{bg.red}*{rs.all}|'\n",
    "                    else:\n",
    "                        msg += f'{ef.underl}{bg.cyan}*{rs.all}|'\n",
    "                else:\n",
    "                    msg += '_|'\n",
    "            msg += '\\n'\n",
    "        return msg        \n",
    "    \n",
    "    def __str__(self):\n",
    "        return str(self.state)"
   ]
  },
  {
   "cell_type": "code",
   "execution_count": 3,
   "metadata": {},
   "outputs": [],
   "source": [
    "def sort_pop(pop):\n",
    "    costs = []\n",
    "    for chrom in pop:\n",
    "        costs.append(chrom.cost)\n",
    "    costs = np.argsort(costs)\n",
    "    sorted_pop = []\n",
    "    for indx in costs:\n",
    "        sorted_pop.append(pop[indx])\n",
    "    return sorted_pop"
   ]
  },
  {
   "cell_type": "code",
   "execution_count": 4,
   "metadata": {},
   "outputs": [
    {
     "name": "stdout",
     "output_type": "stream",
     "text": [
      "Num Iterations Needed = 8\n"
     ]
    }
   ],
   "source": [
    "# Hyper-Parameters\n",
    "iterations = 1000\n",
    "npop = 100\n",
    "pop = [Chromosome() for i in range(npop)]\n",
    "best_answers = []\n",
    "for iterate in range(iterations):\n",
    "    pop = sort_pop(pop)\n",
    "    c1_indxs = [i for i in range(npop)]\n",
    "    random.shuffle(c1_indxs)\n",
    "    c2_indxs = [i for i in range(npop)]\n",
    "    random.shuffle(c2_indxs)\n",
    "    for j in range(int(.3 * npop)):\n",
    "        pop1 = pop[c1_indxs[j]]\n",
    "        pop2 = pop[c2_indxs[j]]\n",
    "        pop3, pop4 = pop1.cross_over(pop2)\n",
    "        pop.append(pop3)\n",
    "        pop.append(pop4)\n",
    "    random.shuffle(c1_indxs)\n",
    "    for j in range(int(.3 * npop)):\n",
    "        new_pop = pop[c1_indxs[j]].mutate()\n",
    "        pop.append(new_pop)\n",
    "    pop = sort_pop(pop)\n",
    "    pop = pop[:npop]\n",
    "    best_answers.append(pop[0].cost)\n",
    "    if pop[0].cost == 0:\n",
    "        break\n",
    "print(f\"Num Iterations Needed = {iterate}\")"
   ]
  },
  {
   "cell_type": "code",
   "execution_count": 5,
   "metadata": {},
   "outputs": [
    {
     "data": {
      "text/plain": [
       "0"
      ]
     },
     "execution_count": 5,
     "metadata": {},
     "output_type": "execute_result"
    }
   ],
   "source": [
    "pop[0].cost"
   ]
  },
  {
   "cell_type": "code",
   "execution_count": 6,
   "metadata": {},
   "outputs": [
    {
     "data": {
      "text/plain": [
       " _ _ _ _ _ _ _ _\n",
       "|\u001b[4m\u001b[46m*\u001b[0m|_|_|_|_|_|_|_|\n",
       "|_|_|_|_|_|_|\u001b[4m\u001b[46m*\u001b[0m|_|\n",
       "|_|_|_|\u001b[4m\u001b[46m*\u001b[0m|_|_|_|_|\n",
       "|_|_|_|_|_|\u001b[4m\u001b[46m*\u001b[0m|_|_|\n",
       "|_|_|_|_|_|_|_|\u001b[4m\u001b[46m*\u001b[0m|\n",
       "|_|\u001b[4m\u001b[46m*\u001b[0m|_|_|_|_|_|_|\n",
       "|_|_|_|_|\u001b[4m\u001b[46m*\u001b[0m|_|_|_|\n",
       "|_|_|\u001b[4m\u001b[46m*\u001b[0m|_|_|_|_|_|"
      ]
     },
     "execution_count": 6,
     "metadata": {},
     "output_type": "execute_result"
    }
   ],
   "source": [
    "pop[0]"
   ]
  },
  {
   "cell_type": "code",
   "execution_count": 8,
   "metadata": {},
   "outputs": [
    {
     "data": {
      "text/plain": [
       "0"
      ]
     },
     "execution_count": 8,
     "metadata": {},
     "output_type": "execute_result"
    }
   ],
   "source": [
    "pop[0].cost"
   ]
  },
  {
   "cell_type": "code",
   "execution_count": null,
   "metadata": {},
   "outputs": [],
   "source": []
  }
 ],
 "metadata": {
  "kernelspec": {
   "display_name": "Python 3",
   "language": "python",
   "name": "python3"
  },
  "language_info": {
   "codemirror_mode": {
    "name": "ipython",
    "version": 3
   },
   "file_extension": ".py",
   "mimetype": "text/x-python",
   "name": "python",
   "nbconvert_exporter": "python",
   "pygments_lexer": "ipython3",
   "version": "3.7.6"
  }
 },
 "nbformat": 4,
 "nbformat_minor": 4
}
